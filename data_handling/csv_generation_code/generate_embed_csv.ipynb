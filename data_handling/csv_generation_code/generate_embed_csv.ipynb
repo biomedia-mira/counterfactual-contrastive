{
 "cells": [
  {
   "cell_type": "code",
   "execution_count": 1,
   "id": "294c3534-7412-4ec3-a256-4a88bbc52480",
   "metadata": {},
   "outputs": [],
   "source": [
    "import numpy as np\n",
    "import pandas as pd\n",
    "from pathlib import Path\n",
    "\n",
    "EMBED_ROOT = Path(\"/vol/biomedic3/data/EMBED\")"
   ]
  },
  {
   "cell_type": "code",
   "execution_count": 2,
   "id": "843827d3-79d9-4219-acaa-5737494c7924",
   "metadata": {},
   "outputs": [],
   "source": [
    "# Need instance number for our specific  casewise aggregation methodologies\n",
    "full_dicom = pd.read_csv(\n",
    "    EMBED_ROOT / \"tables/EMBED_OpenData_metadata.csv\", low_memory=False\n",
    ")[\n",
    "    [\n",
    "        \"InstanceNumber\",\n",
    "        \"anon_dicom_path\",\n",
    "        \"PixelSpacing\",\n",
    "        \"ImagerPixelSpacing\",\n",
    "        \"Rows\",\n",
    "        \"Columns\",\n",
    "    ]\n",
    "]"
   ]
  },
  {
   "cell_type": "code",
   "execution_count": 3,
   "id": "7d920e51-029a-41bc-9adf-f2fe01da160e",
   "metadata": {},
   "outputs": [
    {
     "name": "stdout",
     "output_type": "stream",
     "text": [
      "480323\n",
      "480323\n"
     ]
    }
   ],
   "source": [
    "dicom = pd.read_csv(\n",
    "    EMBED_ROOT / \"tables/EMBED_OpenData_metadata_reduced.csv\", low_memory=False\n",
    ")\n",
    "print(len(dicom))\n",
    "dicom = dicom.merge(full_dicom, on=\"anon_dicom_path\")\n",
    "print(len(dicom))\n",
    "dicom[\"image_path\"] = (\n",
    "    dicom[\"empi_anon\"].astype(\"str\")\n",
    "    + \"/\"\n",
    "    + dicom[\"anon_dicom_path\"].str.split(\"/\").str[-1].str.split(\".dcm\").str[0]\n",
    "    + \".png\"\n",
    ")"
   ]
  },
  {
   "cell_type": "code",
   "execution_count": 4,
   "id": "761834a9",
   "metadata": {},
   "outputs": [
    {
     "name": "stderr",
     "output_type": "stream",
     "text": [
      "/tmp/ipykernel_34030/2960478528.py:10: SettingWithCopyWarning: \n",
      "A value is trying to be set on a copy of a slice from a DataFrame.\n",
      "Try using .loc[row_indexer,col_indexer] = value instead\n",
      "\n",
      "See the caveats in the documentation: https://pandas.pydata.org/pandas-docs/stable/user_guide/indexing.html#returning-a-view-versus-a-copy\n",
      "  view_nan['ViewPosition'] = view_nan['SeriesDescription'].apply(lambda x: 'CC' if 'CC' in x else ('MLO' if 'MLO' in x else None))\n"
     ]
    }
   ],
   "source": [
    "# XCCL shouldn't be converted to CC so manually editing it\n",
    "dicom.loc[\n",
    "    (dicom[\"SeriesDescription\"] == \"RXCCL\") | (dicom[\"SeriesDescription\"] == \"LXCCL\"),\n",
    "    \"ViewPosition\",\n",
    "] = \"XCCL\"\n",
    "\n",
    "# Getting all rows with \"ViewPosition\" == Nan (but for which SeriesDescription is also not nan, as these are the ones subject to the data entry error)\n",
    "view_nan = dicom.loc[\n",
    "    (dicom.ViewPosition.isna()) & (dicom.SeriesDescription.isna() == False)\n",
    "]\n",
    "\n",
    "# Drop these rows from\n",
    "dicom_no_nans = dicom[~dicom.index.isin(view_nan.index)]\n",
    "\n",
    "view_nan[\"ViewPosition\"] = view_nan[\"SeriesDescription\"].apply(\n",
    "    lambda x: \"CC\" if \"CC\" in x else (\"MLO\" if \"MLO\" in x else None)\n",
    ")\n",
    "\n",
    "dicom = pd.concat([dicom_no_nans, view_nan], axis=0, ignore_index=True)"
   ]
  },
  {
   "cell_type": "code",
   "execution_count": 5,
   "id": "6ba1ca1e-605a-47cf-a1a4-a66c3f02eaa0",
   "metadata": {},
   "outputs": [
    {
     "name": "stdout",
     "output_type": "stream",
     "text": [
      "480323\n",
      "420457\n"
     ]
    }
   ],
   "source": [
    "print(len(dicom))\n",
    "# Remove any duplicated images\n",
    "dicom = dicom.drop_duplicates(subset=\"anon_dicom_path\")\n",
    "# Remove spot compressed and magnified images\n",
    "dicom = dicom[dicom.spot_mag.isna()]\n",
    "# Remove invalid views\n",
    "dicom = dicom[dicom.ViewPosition.isin([\"CC\", \"MLO\"])]\n",
    "# Remove images from male clients\n",
    "dicom = dicom[dicom.PatientSex == \"F\"]\n",
    "print(len(dicom))"
   ]
  },
  {
   "cell_type": "code",
   "execution_count": 6,
   "id": "2fb11f50-c3d9-4728-9d7c-f998950efda3",
   "metadata": {},
   "outputs": [],
   "source": [
    "# Remove any unnecessary fields from the DICOM imagewise dataframe (this may need to be updated in the future if other fields are deemed relevant)\n",
    "dicom = dicom[\n",
    "    [\n",
    "        \"empi_anon\",\n",
    "        \"acc_anon\",\n",
    "        \"image_path\",\n",
    "        \"FinalImageType\",\n",
    "        \"ImageLateralityFinal\",\n",
    "        \"ViewPosition\",\n",
    "        \"Manufacturer\",\n",
    "        \"ManufacturerModelName\",\n",
    "    ]\n",
    "]"
   ]
  },
  {
   "cell_type": "code",
   "execution_count": 7,
   "id": "063dd3c2-e1f5-4f06-b46b-86ac872bf53b",
   "metadata": {},
   "outputs": [],
   "source": [
    "# Conversion dictionary to standardised naming of various fields in clincial metadata\n",
    "\n",
    "# Human reader BIRADS density assessment\n",
    "dens_conversion = {1.0: \"A\", 2.0: \"B\", 3.0: \"C\", 4.0: \"D\"}"
   ]
  },
  {
   "cell_type": "code",
   "execution_count": 8,
   "id": "b2bb7973",
   "metadata": {},
   "outputs": [
    {
     "name": "stdout",
     "output_type": "stream",
     "text": [
      "81776\n"
     ]
    }
   ],
   "source": [
    "# Load in the clinical metadata\n",
    "mag = pd.read_csv(EMBED_ROOT / \"tables/EMBED_OpenData_clinical.csv\", low_memory=False)\n",
    "print(len(mag))\n",
    "# Remove cases from cases a valid BIRADS density assessment\n",
    "mag = mag[mag.tissueden.isin([1.0, 2.0, 3.0, 4.0])]\n",
    "mag.replace({\"tissueden\": dens_conversion}, inplace=True)"
   ]
  },
  {
   "cell_type": "code",
   "execution_count": 9,
   "id": "dbfa9fef",
   "metadata": {},
   "outputs": [
    {
     "name": "stdout",
     "output_type": "stream",
     "text": [
      "72188\n"
     ]
    }
   ],
   "source": [
    "# Keep important study metadata tags to join up with final aggregated dataframe at end of script\n",
    "mag = mag[[\"empi_anon\", \"tissueden\", \"study_date_anon\", \"acc_anon\"]].drop_duplicates(\n",
    "    subset=\"acc_anon\"\n",
    ")\n",
    "print(len(mag))"
   ]
  },
  {
   "cell_type": "code",
   "execution_count": 10,
   "id": "718a3d73",
   "metadata": {},
   "outputs": [],
   "source": [
    "# Convert to pandas datetime object\n",
    "mag[\"study_date_anon\"] = pd.to_datetime(mag[\"study_date_anon\"], errors=\"coerce\")"
   ]
  },
  {
   "cell_type": "code",
   "execution_count": 11,
   "id": "76ba820c",
   "metadata": {},
   "outputs": [
    {
     "data": {
      "text/plain": [
       "Manufacturer\n",
       "HOLOGIC, Inc.           386257\n",
       "GE MEDICAL SYSTEMS       25569\n",
       "FUJIFILM Corporation      8133\n",
       "GE HEALTHCARE              498\n",
       "Name: count, dtype: int64"
      ]
     },
     "execution_count": 11,
     "metadata": {},
     "output_type": "execute_result"
    }
   ],
   "source": [
    "dicom.Manufacturer.value_counts()"
   ]
  },
  {
   "cell_type": "code",
   "execution_count": 12,
   "id": "c8f01bb6",
   "metadata": {},
   "outputs": [
    {
     "name": "stdout",
     "output_type": "stream",
     "text": [
      "420457\n",
      "418819\n"
     ]
    }
   ],
   "source": [
    "# Only consider studies which have a valid link between the DICOM and clinical metadata\n",
    "print(len(dicom))\n",
    "df = mag.merge(dicom, on=\"acc_anon\")\n",
    "print(len(df))"
   ]
  },
  {
   "cell_type": "code",
   "execution_count": 13,
   "id": "10e15a67",
   "metadata": {},
   "outputs": [
    {
     "data": {
      "text/plain": [
       "Index(['empi_anon_x', 'tissueden', 'study_date_anon', 'acc_anon',\n",
       "       'empi_anon_y', 'image_path', 'FinalImageType', 'ImageLateralityFinal',\n",
       "       'ViewPosition', 'Manufacturer', 'ManufacturerModelName'],\n",
       "      dtype='object')"
      ]
     },
     "execution_count": 13,
     "metadata": {},
     "output_type": "execute_result"
    }
   ],
   "source": [
    "df.columns"
   ]
  },
  {
   "cell_type": "code",
   "execution_count": 14,
   "id": "beb549c5",
   "metadata": {},
   "outputs": [],
   "source": [
    "# df.to_csv('joined_simple.csv', index=False)"
   ]
  }
 ],
 "metadata": {
  "kernelspec": {
   "display_name": "Python 3 (ipykernel)",
   "language": "python",
   "name": "python3"
  },
  "language_info": {
   "codemirror_mode": {
    "name": "ipython",
    "version": 3
   },
   "file_extension": ".py",
   "mimetype": "text/x-python",
   "name": "python",
   "nbconvert_exporter": "python",
   "pygments_lexer": "ipython3",
   "version": "3.11.5"
  }
 },
 "nbformat": 4,
 "nbformat_minor": 5
}
