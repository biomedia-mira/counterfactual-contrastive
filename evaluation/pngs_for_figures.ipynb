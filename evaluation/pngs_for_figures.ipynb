{
 "cells": [
  {
   "cell_type": "code",
   "execution_count": null,
   "metadata": {},
   "outputs": [],
   "source": [
    "import sys\n",
    "\n",
    "sys.path.append(\"/vol/biomedic3/mb121/causal-contrastive\")\n",
    "from torchvision.transforms import (\n",
    "    Resize,\n",
    "    CenterCrop,\n",
    "    ToTensor,\n",
    "    RandomAffine,\n",
    "    ColorJitter,\n",
    "    RandomResizedCrop,\n",
    ")\n",
    "from skimage import io\n",
    "import matplotlib.pyplot as plt\n",
    "from data_handling.mammo import preprocess_breast, get_embed_csv, modelname_map\n",
    "from pathlib import Path\n",
    "import matplotlib\n",
    "import matplotlib.patches as patches\n",
    "\n",
    "matplotlib.rcParams[\"font.family\"] = \"serif\"\n",
    "import seaborn as sns\n",
    "from data_handling.xray import prepare_padchest_csv"
   ]
  },
  {
   "cell_type": "markdown",
   "metadata": {},
   "source": [
    "# Some random images for figure 1"
   ]
  },
  {
   "cell_type": "code",
   "execution_count": null,
   "metadata": {},
   "outputs": [],
   "source": [
    "path = \"/vol/biomedic3/data/EMBED/images/png/1024x768/10000879/1.2.826.0.1.3680043.8.498.10392068038916878965464813474172245832.png\"\n",
    "path_cf = \"/vol/biomedic3/mb121/causal-contrastive/cf_beta1balanced_scanner/10000879/1.2.826.0.1.3680043.8.498.10392068038916878965464813474172245832_s3.png\"\n",
    "img1 = CenterCrop((224, 192))(preprocess_breast(str(path), (256, 192))[0])\n",
    "plt.imshow(img1, cmap=\"gray\")\n",
    "plt.axis(\"off\");"
   ]
  },
  {
   "cell_type": "code",
   "execution_count": null,
   "metadata": {},
   "outputs": [],
   "source": [
    "path_cf = \"/vol/biomedic3/mb121/causal-contrastive/cf_beta1balanced_scanner/10000879/1.2.826.0.1.3680043.8.498.10392068038916878965464813474172245832_s2.png\"\n",
    "img1 = CenterCrop((224, 192))(preprocess_breast(str(path_cf), (256, 192))[0])\n",
    "plt.imshow(img1, cmap=\"gray\")\n",
    "plt.axis(\"off\")"
   ]
  },
  {
   "cell_type": "code",
   "execution_count": null,
   "metadata": {},
   "outputs": [],
   "source": [
    "from lightning import seed_everything\n",
    "\n",
    "seed_everything(33)\n",
    "img1 = ColorJitter(contrast=0.5, brightness=0.5)(\n",
    "    RandomResizedCrop((224, 192))(\n",
    "        RandomAffine(30)((preprocess_breast(str(path), (256, 192))))\n",
    "    )\n",
    ")\n",
    "plt.imshow(img1[0], cmap=\"gray\", vmin=0, vmax=1)\n",
    "plt.axis(\"off\")"
   ]
  },
  {
   "cell_type": "code",
   "execution_count": null,
   "metadata": {},
   "outputs": [],
   "source": [
    "seed_everything(55)\n",
    "img1 = ColorJitter(contrast=0.5, brightness=0.5)(\n",
    "    CenterCrop((224, 192))(RandomAffine(30)((preprocess_breast(str(path), (256, 192)))))\n",
    ")\n",
    "plt.imshow(img1[0], cmap=\"gray\", vmin=0, vmax=1)\n",
    "plt.axis(\"off\")"
   ]
  },
  {
   "cell_type": "markdown",
   "metadata": {},
   "source": [
    "# Visualisation of counterfactuals"
   ]
  },
  {
   "cell_type": "code",
   "execution_count": null,
   "metadata": {},
   "outputs": [],
   "source": [
    "df = get_embed_csv()"
   ]
  },
  {
   "cell_type": "code",
   "execution_count": null,
   "metadata": {},
   "outputs": [],
   "source": [
    "df = get_embed_csv()\n",
    "\n",
    "rev_model_map = {v: k for k, v in modelname_map.items()}\n",
    "rev_model_map[2] = \"Senograph 2000D\"\n",
    "f, ax = plt.subplots(3, 3, figsize=(15, 15))\n",
    "\n",
    "for i, s in enumerate([0, 2, 4]):\n",
    "    shortpath = df.loc[df.SimpleModelLabel == s, \"shortimgpath\"].values[1]\n",
    "    path = Path(\"/vol/biomedic3/data/EMBED/images/png/1024x768\") / shortpath\n",
    "\n",
    "    for j, cf in enumerate([0, 2, 4]):\n",
    "        path_cf = (\n",
    "            Path(\"/vol/biomedic3/mb121/causal-contrastive/cf_beta1balanced_scanner\")\n",
    "            / f\"{shortpath[:-4]}_s{cf}.png\"\n",
    "        )\n",
    "        if Path(path_cf).exists():\n",
    "            img1 = CenterCrop((224, 192))(preprocess_breast(str(path_cf), (256, 192)))\n",
    "            if i == 0:\n",
    "                t = rev_model_map[cf].replace(\" \", \"\\ \")\n",
    "                ax[i, j].set_title(\n",
    "                    r\"$\\bf{\" + t + \"}$\" + \"\\nCOUNTERFACTUAL\", fontsize=20\n",
    "                )\n",
    "            else:\n",
    "                ax[i, j].set_title(f\"COUNTERFACTUAL\", fontsize=20)\n",
    "        else:\n",
    "            img1 = CenterCrop((224, 192))(preprocess_breast(str(path), (256, 192)))\n",
    "            if i == 0:\n",
    "                t = rev_model_map[cf].replace(\" \", \"\\ \")\n",
    "                ax[i, j].set_title(r\"$\\bf{\" + t + \"}$\" + \"\\nREAL IMAGE\", fontsize=20)\n",
    "            else:\n",
    "                ax[i, j].set_title(f\"REAL IMAGE\", fontsize=20)\n",
    "\n",
    "        ax[i, j].imshow(img1[0], cmap=\"gray\")\n",
    "        ax[i, j].set_xticks([]), ax[i, j].set_yticks([])\n",
    "\n",
    "plt.savefig(\"cf_viz.pdf\", bbox_inches=\"tight\")"
   ]
  },
  {
   "cell_type": "code",
   "execution_count": null,
   "metadata": {},
   "outputs": [],
   "source": [
    "from sklearn.model_selection import train_test_split\n",
    "\n",
    "df = prepare_padchest_csv()\n",
    "train_val_id, _ = train_test_split(\n",
    "    df.PatientID.unique(),\n",
    "    test_size=0.20,\n",
    "    random_state=33,\n",
    ")\n",
    "\n",
    "train_id, _ = train_test_split(\n",
    "    train_val_id,\n",
    "    test_size=0.10,\n",
    "    random_state=33,\n",
    ")\n",
    "df = df.loc[df.PatientID.isin(train_id)]\n",
    "f, ax = plt.subplots(3, 2, figsize=(10, 15))\n",
    "\n",
    "for i, s in enumerate([\"Phillips\", \"Imaging\", \"Phillips\"]):\n",
    "    shortpath = df.loc[df.Manufacturer == s, \"ImageID\"].values[i + 1]\n",
    "    path = Path(\"/vol/biodata/data/chest_xray/BIMCV-PADCHEST\") / \"images\" / shortpath\n",
    "\n",
    "    for j, cf in enumerate([\"Phillips\", \"Imaging\"]):\n",
    "        if cf != s:\n",
    "            path_cf = Path(\"../padchest_cf_images_v0\") / f\"{shortpath[:-4]}_sc_cf.png\"\n",
    "            img = io.imread(str(path_cf), as_gray=True)\n",
    "            if i == 0:\n",
    "                t = cf.replace(\" \", \"\\ \")\n",
    "                ax[i, j].set_title(\n",
    "                    r\"$\\bf{\" + t + \"}$\" + \"\\nCOUNTERFACTUAL\", fontsize=20\n",
    "                )\n",
    "            else:\n",
    "                ax[i, j].set_title(\"COUNTERFACTUAL\", fontsize=20)\n",
    "        else:\n",
    "            img = io.imread(str(path), as_gray=True)\n",
    "            if i == 0:\n",
    "                t = cf.replace(\" \", \"\\ \")\n",
    "                ax[i, j].set_title(r\"$\\bf{\" + t + \"}$\" + \"\\nREAL IMAGE\", fontsize=20)\n",
    "            else:\n",
    "                ax[i, j].set_title(f\"REAL IMAGE\", fontsize=20)\n",
    "        img = img / (img.max() + 1e-12)\n",
    "        img = CenterCrop(224)(Resize(224, antialias=True)(ToTensor()(img)))[0]\n",
    "        ax[i, j].imshow(img, cmap=\"gray\", vmin=0, vmax=1)\n",
    "        ax[i, j].set_xticks([]), ax[i, j].set_yticks([])\n",
    "\n",
    "plt.savefig(\"cf_viz_cxr.pdf\", bbox_inches=\"tight\")"
   ]
  }
 ],
 "metadata": {
  "kernelspec": {
   "display_name": "Python 3",
   "language": "python",
   "name": "python3"
  },
  "language_info": {
   "codemirror_mode": {
    "name": "ipython",
    "version": 3
   },
   "file_extension": ".py",
   "mimetype": "text/x-python",
   "name": "python",
   "nbconvert_exporter": "python",
   "pygments_lexer": "ipython3",
   "version": "3.11.5"
  }
 },
 "nbformat": 4,
 "nbformat_minor": 2
}
